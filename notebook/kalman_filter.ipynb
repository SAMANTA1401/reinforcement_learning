{
 "cells": [
  {
   "cell_type": "code",
   "execution_count": 2,
   "id": "975e4da5",
   "metadata": {},
   "outputs": [
    {
     "name": "stdout",
     "output_type": "stream",
     "text": [
      "Estimated Position: 0.95, Velocity: 0.47\n",
      "Estimated Position: 1.93, Velocity: 0.87\n",
      "Estimated Position: 2.96, Velocity: 0.96\n",
      "Estimated Position: 3.98, Velocity: 0.98\n",
      "Estimated Position: 4.99, Velocity: 0.99\n"
     ]
    }
   ],
   "source": [
    "import numpy as np\n",
    "\n",
    "class KalmanFilter:\n",
    "    def __init__(self):\n",
    "        \"\"\"\n",
    "        Initializes the Kalman filter with the initial state, uncertainty covariance,\n",
    "        state transition matrix, measurement function matrix, process noise covariance,\n",
    "        and measurement noise covariance.\n",
    "        \"\"\"\n",
    "        self.state = np.array([[0], [0]])  # Initial state (position, velocity)\n",
    "        self.uncertainty_covariance = np.eye(2)  # Uncertainty covariance\n",
    "        self.state_transition_matrix = np.array([[1, 1], [0, 1]])  # State transition\n",
    "        self.measurement_function_matrix = np.array([[1, 0]])  # Measurement function\n",
    "        self.process_noise_covariance = np.eye(2) * 0.01  # Process noise\n",
    "        self.measurement_noise_covariance = np.array([[0.1]])  # Measurement noise\n",
    "\n",
    "    def predict(self):\n",
    "        \"\"\"\n",
    "        Predicts the state of the system at the next time step using the state transition matrix.\n",
    "        \"\"\"\n",
    "        self.state = np.dot(self.state_transition_matrix, self.state)\n",
    "        self.uncertainty_covariance = np.dot(np.dot(self.state_transition_matrix, self.uncertainty_covariance), self.state_transition_matrix.T) + self.process_noise_covariance\n",
    "\n",
    "    def update(self, measurement):\n",
    "        \"\"\"\n",
    "        Updates the state estimate using the measurement and the measurement function matrix.\n",
    "        \"\"\"\n",
    "        innovation = measurement - np.dot(self.measurement_function_matrix, self.state)\n",
    "        innovation_covariance = np.dot(self.measurement_function_matrix, np.dot(self.uncertainty_covariance, self.measurement_function_matrix.T)) + self.measurement_noise_covariance\n",
    "        kalman_gain = np.dot(np.dot(self.uncertainty_covariance, self.measurement_function_matrix.T), np.linalg.inv(innovation_covariance))\n",
    "        self.state = self.state + np.dot(kalman_gain, innovation)\n",
    "        self.uncertainty_covariance = self.uncertainty_covariance - np.dot(kalman_gain, np.dot(self.measurement_function_matrix, self.uncertainty_covariance))\n",
    "\n",
    "kf = KalmanFilter()\n",
    "measurements = [1, 2, 3, 4, 5]  # Example car positions\n",
    "for z in measurements:\n",
    "    kf.predict()\n",
    "    kf.update(np.array([[z]]))\n",
    "    print(f\"Estimated Position: {kf.state[0,0]:.2f}, Velocity: {kf.state[1,0]:.2f}\")"
   ]
  }
 ],
 "metadata": {
  "kernelspec": {
   "display_name": "Python 3",
   "language": "python",
   "name": "python3"
  },
  "language_info": {
   "codemirror_mode": {
    "name": "ipython",
    "version": 3
   },
   "file_extension": ".py",
   "mimetype": "text/x-python",
   "name": "python",
   "nbconvert_exporter": "python",
   "pygments_lexer": "ipython3",
   "version": "3.11.9"
  }
 },
 "nbformat": 4,
 "nbformat_minor": 5
}
